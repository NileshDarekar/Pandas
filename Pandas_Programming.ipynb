{
 "cells": [
  {
   "cell_type": "markdown",
   "id": "4dd3cd49",
   "metadata": {},
   "source": [
    "Having learnt NumPy, we will learn how to use pandas for data analysis. You can think of pandas as an extremely powerful version of Excel, with a lot more features.\n",
    "**Raw data ---> Import to Pandas ----> Analyze, Manipulate, Process, Do the Datasicence**\n",
    "\n",
    "\n",
    "--Series\n",
    "\n",
    "--DataFrames\n",
    "\n",
    "--Data Manipulations & Processing & Filtering etc.\n",
    "\n",
    "--Data Input and Output"
   ]
  },
  {
   "cell_type": "markdown",
   "id": "8bc30f5a",
   "metadata": {},
   "source": [
    "# Chapter 1 : Series"
   ]
  },
  {
   "cell_type": "markdown",
   "id": "89c53877",
   "metadata": {},
   "source": [
    "A Series is very similar to a NumPy array (in fact it is built on top of the NumPy array object). \n",
    "What differentiates the NumPy array from a Series, is that a Series can have axis labels, meaning it can be indexed by a label, instead of just a number location. It also doesn't need to hold numeric data, it can hold any arbitrary Python Object.\n",
    "Array + Labels = Series"
   ]
  },
  {
   "cell_type": "code",
   "execution_count": 2,
   "id": "9ab4171e",
   "metadata": {},
   "outputs": [],
   "source": [
    "import numpy as np\n",
    "import pandas as pd"
   ]
  },
  {
   "cell_type": "markdown",
   "id": "5e0f0dd1",
   "metadata": {},
   "source": [
    "### Creating a Series Using Numpy array"
   ]
  },
  {
   "cell_type": "code",
   "execution_count": 2,
   "id": "35e0f184",
   "metadata": {},
   "outputs": [],
   "source": [
    "porosities = np.array([0.25, 0.31, 0.10])"
   ]
  },
  {
   "cell_type": "code",
   "execution_count": 3,
   "id": "d4248a9c",
   "metadata": {},
   "outputs": [
    {
     "data": {
      "text/plain": [
       "array([0.25, 0.31, 0.1 ])"
      ]
     },
     "execution_count": 3,
     "metadata": {},
     "output_type": "execute_result"
    }
   ],
   "source": [
    "porosities"
   ]
  },
  {
   "cell_type": "markdown",
   "id": "cba3a352",
   "metadata": {},
   "source": [
    "pd.Series(array, index=, dtype*)"
   ]
  },
  {
   "cell_type": "code",
   "execution_count": 4,
   "id": "66b1d961",
   "metadata": {},
   "outputs": [],
   "source": [
    "poro_series = pd.Series(data= porosities,index=['A', 'B', 'C'], dtype=float)"
   ]
  },
  {
   "cell_type": "code",
   "execution_count": 5,
   "id": "013bebf2",
   "metadata": {},
   "outputs": [
    {
     "data": {
      "text/plain": [
       "A    0.25\n",
       "B    0.31\n",
       "C    0.10\n",
       "dtype: float64"
      ]
     },
     "execution_count": 5,
     "metadata": {},
     "output_type": "execute_result"
    }
   ],
   "source": [
    "poro_series"
   ]
  },
  {
   "cell_type": "code",
   "execution_count": 6,
   "id": "045a5965",
   "metadata": {},
   "outputs": [
    {
     "data": {
      "text/plain": [
       "A    0.25\n",
       "B    0.31\n",
       "C    0.10\n",
       "Name: MySeries, dtype: float64"
      ]
     },
     "execution_count": 6,
     "metadata": {},
     "output_type": "execute_result"
    }
   ],
   "source": [
    "pd.Series(data= porosities,index=['A', 'B', 'C'], dtype=float, name='MySeries')"
   ]
  },
  {
   "cell_type": "code",
   "execution_count": 7,
   "id": "79408be0",
   "metadata": {},
   "outputs": [],
   "source": [
    "depth_wise_poro_series = pd.Series(np.array([0.31, 0.27, 0.25]), index=[1000, 1500, 2000], name='PoroDepth')"
   ]
  },
  {
   "cell_type": "code",
   "execution_count": 9,
   "id": "0c6e0ea9",
   "metadata": {},
   "outputs": [
    {
     "data": {
      "text/plain": [
       "<AxesSubplot:>"
      ]
     },
     "execution_count": 9,
     "metadata": {},
     "output_type": "execute_result"
    },
    {
     "data": {
      "image/png": "[encoded data removed]",
      "text/plain": [
       "<Figure size 432x288 with 1 Axes>"
      ]
     },
     "metadata": {
      "needs_background": "light"
     },
     "output_type": "display_data"
    }
   ],
   "source": [
    "depth_wise_poro_series.plot()"
   ]
  },
  {
   "cell_type": "markdown",
   "id": "5e007fa9",
   "metadata": {},
   "source": [
    "### Detailed Explaination of Series \n",
    "\n",
    "1. NumPy Array - For the Values. \n",
    "2. Labels - List \n",
    "3. Optional - name"
   ]
  },
  {
   "cell_type": "code",
   "execution_count": 10,
   "id": "e4a62e20",
   "metadata": {},
   "outputs": [],
   "source": [
    "poro_array = np.array([0.30, 0.25, 0.22])\n",
    "\n",
    "poro_labels_depth = [1000, 1500, 2000]\n",
    "\n",
    "depth_vs_poro_series = pd.Series(data=poro_array, index=poro_labels_depth, name='PGUSeries')"
   ]
  },
  {
   "cell_type": "code",
   "execution_count": 11,
   "id": "a29d0b0f",
   "metadata": {},
   "outputs": [
    {
     "data": {
      "text/plain": [
       "1000    0.30\n",
       "1500    0.25\n",
       "2000    0.22\n",
       "Name: PGUSeries, dtype: float64"
      ]
     },
     "execution_count": 11,
     "metadata": {},
     "output_type": "execute_result"
    }
   ],
   "source": [
    "depth_vs_poro_series"
   ]
  },
  {
   "cell_type": "markdown",
   "id": "04a43154",
   "metadata": {},
   "source": [
    "## Creating a series using a Dictionary"
   ]
  },
  {
   "cell_type": "code",
   "execution_count": 12,
   "id": "aa1dc32c",
   "metadata": {},
   "outputs": [],
   "source": [
    "#creating a dictionary"
   ]
  },
  {
   "cell_type": "code",
   "execution_count": 13,
   "id": "44d59062",
   "metadata": {},
   "outputs": [],
   "source": [
    "my_fields_perms = {'rockA':120, 'rockB':100, 'rockC': 80}\n",
    "my_fields_perms_Series =  pd.Series(data=my_fields_perms, name='DictToSeries')"
   ]
  },
  {
   "cell_type": "code",
   "execution_count": 14,
   "id": "bb82b065",
   "metadata": {},
   "outputs": [
    {
     "data": {
      "text/plain": [
       "rockA    120\n",
       "rockB    100\n",
       "rockC     80\n",
       "Name: DictToSeries, dtype: int64"
      ]
     },
     "execution_count": 14,
     "metadata": {},
     "output_type": "execute_result"
    }
   ],
   "source": [
    "my_fields_perms_Series"
   ]
  },
  {
   "cell_type": "code",
   "execution_count": 15,
   "id": "51f1c1e6",
   "metadata": {},
   "outputs": [
    {
     "data": {
      "text/plain": [
       "dict"
      ]
     },
     "execution_count": 15,
     "metadata": {},
     "output_type": "execute_result"
    }
   ],
   "source": [
    "type(my_fields_perms)"
   ]
  },
  {
   "cell_type": "code",
   "execution_count": 16,
   "id": "13c37a59",
   "metadata": {},
   "outputs": [
    {
     "data": {
      "text/plain": [
       "<AxesSubplot:>"
      ]
     },
     "execution_count": 16,
     "metadata": {},
     "output_type": "execute_result"
    },
    {
     "data": {
      "image/png": "[encoded data removed]",
      "text/plain": [
       "<Figure size 432x288 with 1 Axes>"
      ]
     },
     "metadata": {
      "needs_background": "light"
     },
     "output_type": "display_data"
    }
   ],
   "source": [
    "my_fields_perms_Series.plot(kind='bar')"
   ]
  },
  {
   "cell_type": "markdown",
   "id": "ab1616f1",
   "metadata": {},
   "source": [
    "## Chapter 2 : Pandas DataFrames"
   ]
  },
  {
   "cell_type": "markdown",
   "id": "7e48bc3e",
   "metadata": {},
   "source": [
    "So, basically :\n",
    "\n",
    "NumPy array is the most basic brick.\n",
    "\n",
    "NumPy arrays + Labels/Index = Series\n",
    "\n",
    "Multiple Series Stacked Next to each other + Common Index = Pandas DF\n",
    "\n",
    "A DF looks like a table."
   ]
  },
  {
   "cell_type": "code",
   "execution_count": 1,
   "id": "6b54852c",
   "metadata": {},
   "outputs": [],
   "source": [
    "common_depth_index = [1000, 1500, 2000]"
   ]
  },
  {
   "cell_type": "code",
   "execution_count": 4,
   "id": "336c1675",
   "metadata": {},
   "outputs": [],
   "source": [
    "poro_series_1 = pd.Series(data=np.array([0.35, 0.31, 0.27]), index=common_depth_index)\n",
    "\n",
    "poro_series_2 = pd.Series(data=np.array([0.32, 0.30, 0.23]), index=common_depth_index)"
   ]
  },
  {
   "cell_type": "code",
   "execution_count": 5,
   "id": "2a829895",
   "metadata": {},
   "outputs": [
    {
     "data": {
      "text/html": [
       "<div>\n",
       "<style scoped>\n",
       "    .dataframe tbody tr th:only-of-type {\n",
       "        vertical-align: middle;\n",
       "    }\n",
       "\n",
       "    .dataframe tbody tr th {\n",
       "        vertical-align: top;\n",
       "    }\n",
       "\n",
       "    .dataframe thead th {\n",
       "        text-align: right;\n",
       "    }\n",
       "</style>\n",
       "<table border=\"1\" class=\"dataframe\">\n",
       "  <thead>\n",
       "    <tr style=\"text-align: right;\">\n",
       "      <th></th>\n",
       "      <th>1000</th>\n",
       "      <th>1500</th>\n",
       "      <th>2000</th>\n",
       "    </tr>\n",
       "  </thead>\n",
       "  <tbody>\n",
       "    <tr>\n",
       "      <th>0</th>\n",
       "      <td>0.35</td>\n",
       "      <td>0.31</td>\n",
       "      <td>0.27</td>\n",
       "    </tr>\n",
       "    <tr>\n",
       "      <th>1</th>\n",
       "      <td>0.32</td>\n",
       "      <td>0.30</td>\n",
       "      <td>0.23</td>\n",
       "    </tr>\n",
       "  </tbody>\n",
       "</table>\n",
       "</div>"
      ],
      "text/plain": [
       "   1000  1500  2000\n",
       "0  0.35  0.31  0.27\n",
       "1  0.32  0.30  0.23"
      ]
     },
     "execution_count": 5,
     "metadata": {},
     "output_type": "execute_result"
    }
   ],
   "source": [
    "pd.DataFrame([poro_series_1, poro_series_2])"
   ]
  },
  {
   "cell_type": "code",
   "execution_count": 6,
   "id": "01d12801",
   "metadata": {},
   "outputs": [],
   "source": [
    "my_perms = np.random.randint(low=10,high=500, size=9).reshape(3,3)"
   ]
  },
  {
   "cell_type": "code",
   "execution_count": 7,
   "id": "bd376236",
   "metadata": {},
   "outputs": [
    {
     "data": {
      "text/plain": [
       "array([[390, 437,  75],\n",
       "       [ 53, 287, 443],\n",
       "       [495,  40, 267]])"
      ]
     },
     "execution_count": 7,
     "metadata": {},
     "output_type": "execute_result"
    }
   ],
   "source": [
    "my_perms"
   ]
  },
  {
   "cell_type": "code",
   "execution_count": 8,
   "id": "26940473",
   "metadata": {},
   "outputs": [
    {
     "data": {
      "text/html": [
       "<div>\n",
       "<style scoped>\n",
       "    .dataframe tbody tr th:only-of-type {\n",
       "        vertical-align: middle;\n",
       "    }\n",
       "\n",
       "    .dataframe tbody tr th {\n",
       "        vertical-align: top;\n",
       "    }\n",
       "\n",
       "    .dataframe thead th {\n",
       "        text-align: right;\n",
       "    }\n",
       "</style>\n",
       "<table border=\"1\" class=\"dataframe\">\n",
       "  <thead>\n",
       "    <tr style=\"text-align: right;\">\n",
       "      <th></th>\n",
       "      <th>0</th>\n",
       "      <th>1</th>\n",
       "      <th>2</th>\n",
       "    </tr>\n",
       "  </thead>\n",
       "  <tbody>\n",
       "    <tr>\n",
       "      <th>0</th>\n",
       "      <td>390</td>\n",
       "      <td>437</td>\n",
       "      <td>75</td>\n",
       "    </tr>\n",
       "    <tr>\n",
       "      <th>1</th>\n",
       "      <td>53</td>\n",
       "      <td>287</td>\n",
       "      <td>443</td>\n",
       "    </tr>\n",
       "    <tr>\n",
       "      <th>2</th>\n",
       "      <td>495</td>\n",
       "      <td>40</td>\n",
       "      <td>267</td>\n",
       "    </tr>\n",
       "  </tbody>\n",
       "</table>\n",
       "</div>"
      ],
      "text/plain": [
       "     0    1    2\n",
       "0  390  437   75\n",
       "1   53  287  443\n",
       "2  495   40  267"
      ]
     },
     "execution_count": 8,
     "metadata": {},
     "output_type": "execute_result"
    }
   ],
   "source": [
    "pd.DataFrame(my_perms)"
   ]
  },
  {
   "cell_type": "code",
   "execution_count": 9,
   "id": "818a3d0d",
   "metadata": {},
   "outputs": [
    {
     "data": {
      "text/html": [
       "<div>\n",
       "<style scoped>\n",
       "    .dataframe tbody tr th:only-of-type {\n",
       "        vertical-align: middle;\n",
       "    }\n",
       "\n",
       "    .dataframe tbody tr th {\n",
       "        vertical-align: top;\n",
       "    }\n",
       "\n",
       "    .dataframe thead th {\n",
       "        text-align: right;\n",
       "    }\n",
       "</style>\n",
       "<table border=\"1\" class=\"dataframe\">\n",
       "  <thead>\n",
       "    <tr style=\"text-align: right;\">\n",
       "      <th></th>\n",
       "      <th>C1</th>\n",
       "      <th>C2</th>\n",
       "      <th>C3</th>\n",
       "    </tr>\n",
       "  </thead>\n",
       "  <tbody>\n",
       "    <tr>\n",
       "      <th>0</th>\n",
       "      <td>390</td>\n",
       "      <td>437</td>\n",
       "      <td>75</td>\n",
       "    </tr>\n",
       "    <tr>\n",
       "      <th>1</th>\n",
       "      <td>53</td>\n",
       "      <td>287</td>\n",
       "      <td>443</td>\n",
       "    </tr>\n",
       "    <tr>\n",
       "      <th>2</th>\n",
       "      <td>495</td>\n",
       "      <td>40</td>\n",
       "      <td>267</td>\n",
       "    </tr>\n",
       "  </tbody>\n",
       "</table>\n",
       "</div>"
      ],
      "text/plain": [
       "    C1   C2   C3\n",
       "0  390  437   75\n",
       "1   53  287  443\n",
       "2  495   40  267"
      ]
     },
     "execution_count": 9,
     "metadata": {},
     "output_type": "execute_result"
    }
   ],
   "source": [
    "pd.DataFrame(my_perms, columns=['C1', 'C2', 'C3'])"
   ]
  },
  {
   "cell_type": "code",
   "execution_count": 13,
   "id": "1080162f",
   "metadata": {},
   "outputs": [
    {
     "data": {
      "text/html": [
       "<div>\n",
       "<style scoped>\n",
       "    .dataframe tbody tr th:only-of-type {\n",
       "        vertical-align: middle;\n",
       "    }\n",
       "\n",
       "    .dataframe tbody tr th {\n",
       "        vertical-align: top;\n",
       "    }\n",
       "\n",
       "    .dataframe thead th {\n",
       "        text-align: right;\n",
       "    }\n",
       "</style>\n",
       "<table border=\"1\" class=\"dataframe\">\n",
       "  <thead>\n",
       "    <tr style=\"text-align: right;\">\n",
       "      <th></th>\n",
       "      <th>C1</th>\n",
       "      <th>C2</th>\n",
       "      <th>C3</th>\n",
       "    </tr>\n",
       "  </thead>\n",
       "  <tbody>\n",
       "    <tr>\n",
       "      <th>R1</th>\n",
       "      <td>390</td>\n",
       "      <td>437</td>\n",
       "      <td>75</td>\n",
       "    </tr>\n",
       "    <tr>\n",
       "      <th>R2</th>\n",
       "      <td>53</td>\n",
       "      <td>287</td>\n",
       "      <td>443</td>\n",
       "    </tr>\n",
       "    <tr>\n",
       "      <th>R3</th>\n",
       "      <td>495</td>\n",
       "      <td>40</td>\n",
       "      <td>267</td>\n",
       "    </tr>\n",
       "  </tbody>\n",
       "</table>\n",
       "</div>"
      ],
      "text/plain": [
       "     C1   C2   C3\n",
       "R1  390  437   75\n",
       "R2   53  287  443\n",
       "R3  495   40  267"
      ]
     },
     "execution_count": 13,
     "metadata": {},
     "output_type": "execute_result"
    }
   ],
   "source": [
    "pd.DataFrame(my_perms, columns=['C1', 'C2', 'C3'], index=['R1', 'R2', 'R3'])"
   ]
  },
  {
   "cell_type": "code",
   "execution_count": 14,
   "id": "96552b76",
   "metadata": {},
   "outputs": [
    {
     "data": {
      "text/html": [
       "<div>\n",
       "<style scoped>\n",
       "    .dataframe tbody tr th:only-of-type {\n",
       "        vertical-align: middle;\n",
       "    }\n",
       "\n",
       "    .dataframe tbody tr th {\n",
       "        vertical-align: top;\n",
       "    }\n",
       "\n",
       "    .dataframe thead th {\n",
       "        text-align: right;\n",
       "    }\n",
       "</style>\n",
       "<table border=\"1\" class=\"dataframe\">\n",
       "  <thead>\n",
       "    <tr style=\"text-align: right;\">\n",
       "      <th></th>\n",
       "      <th>C1</th>\n",
       "      <th>C2</th>\n",
       "      <th>C3</th>\n",
       "    </tr>\n",
       "  </thead>\n",
       "  <tbody>\n",
       "    <tr>\n",
       "      <th>1000</th>\n",
       "      <td>390</td>\n",
       "      <td>437</td>\n",
       "      <td>75</td>\n",
       "    </tr>\n",
       "    <tr>\n",
       "      <th>1500</th>\n",
       "      <td>53</td>\n",
       "      <td>287</td>\n",
       "      <td>443</td>\n",
       "    </tr>\n",
       "    <tr>\n",
       "      <th>2000</th>\n",
       "      <td>495</td>\n",
       "      <td>40</td>\n",
       "      <td>267</td>\n",
       "    </tr>\n",
       "  </tbody>\n",
       "</table>\n",
       "</div>"
      ],
      "text/plain": [
       "       C1   C2   C3\n",
       "1000  390  437   75\n",
       "1500   53  287  443\n",
       "2000  495   40  267"
      ]
     },
     "execution_count": 14,
     "metadata": {},
     "output_type": "execute_result"
    }
   ],
   "source": [
    "pd.DataFrame(my_perms, columns=['C1', 'C2', 'C3'], index=[common_depth_index])"
   ]
  },
  {
   "cell_type": "markdown",
   "id": "05d48d21",
   "metadata": {},
   "source": [
    "## Creating a DF using a Dictionary"
   ]
  },
  {
   "cell_type": "code",
   "execution_count": 15,
   "id": "3e90fc36",
   "metadata": {},
   "outputs": [],
   "source": [
    "my_field_data = {'depth':[1000, 1500, 2000], 'poro(%)':[35, 30, 25], 'Perm(mD)':[500, 450, 150]}"
   ]
  },
  {
   "cell_type": "code",
   "execution_count": 16,
   "id": "65794982",
   "metadata": {},
   "outputs": [
    {
     "data": {
      "text/plain": [
       "{'depth': [1000, 1500, 2000],\n",
       " 'poro(%)': [35, 30, 25],\n",
       " 'Perm(mD)': [500, 450, 150]}"
      ]
     },
     "execution_count": 16,
     "metadata": {},
     "output_type": "execute_result"
    }
   ],
   "source": [
    "my_field_data"
   ]
  },
  {
   "cell_type": "code",
   "execution_count": 17,
   "id": "4c540073",
   "metadata": {},
   "outputs": [
    {
     "data": {
      "text/html": [
       "<div>\n",
       "<style scoped>\n",
       "    .dataframe tbody tr th:only-of-type {\n",
       "        vertical-align: middle;\n",
       "    }\n",
       "\n",
       "    .dataframe tbody tr th {\n",
       "        vertical-align: top;\n",
       "    }\n",
       "\n",
       "    .dataframe thead th {\n",
       "        text-align: right;\n",
       "    }\n",
       "</style>\n",
       "<table border=\"1\" class=\"dataframe\">\n",
       "  <thead>\n",
       "    <tr style=\"text-align: right;\">\n",
       "      <th></th>\n",
       "      <th>depth</th>\n",
       "      <th>poro(%)</th>\n",
       "      <th>Perm(mD)</th>\n",
       "    </tr>\n",
       "  </thead>\n",
       "  <tbody>\n",
       "    <tr>\n",
       "      <th>0</th>\n",
       "      <td>1000</td>\n",
       "      <td>35</td>\n",
       "      <td>500</td>\n",
       "    </tr>\n",
       "    <tr>\n",
       "      <th>1</th>\n",
       "      <td>1500</td>\n",
       "      <td>30</td>\n",
       "      <td>450</td>\n",
       "    </tr>\n",
       "    <tr>\n",
       "      <th>2</th>\n",
       "      <td>2000</td>\n",
       "      <td>25</td>\n",
       "      <td>150</td>\n",
       "    </tr>\n",
       "  </tbody>\n",
       "</table>\n",
       "</div>"
      ],
      "text/plain": [
       "   depth  poro(%)  Perm(mD)\n",
       "0   1000       35       500\n",
       "1   1500       30       450\n",
       "2   2000       25       150"
      ]
     },
     "execution_count": 17,
     "metadata": {},
     "output_type": "execute_result"
    }
   ],
   "source": [
    "pd.DataFrame(my_field_data)"
   ]
  },
  {
   "cell_type": "code",
   "execution_count": 18,
   "id": "69a7d11e",
   "metadata": {},
   "outputs": [],
   "source": [
    "df_field = pd.DataFrame(my_field_data, index=common_depth_index)"
   ]
  },
  {
   "cell_type": "code",
   "execution_count": 19,
   "id": "554854a6",
   "metadata": {},
   "outputs": [
    {
     "data": {
      "text/html": [
       "<div>\n",
       "<style scoped>\n",
       "    .dataframe tbody tr th:only-of-type {\n",
       "        vertical-align: middle;\n",
       "    }\n",
       "\n",
       "    .dataframe tbody tr th {\n",
       "        vertical-align: top;\n",
       "    }\n",
       "\n",
       "    .dataframe thead th {\n",
       "        text-align: right;\n",
       "    }\n",
       "</style>\n",
       "<table border=\"1\" class=\"dataframe\">\n",
       "  <thead>\n",
       "    <tr style=\"text-align: right;\">\n",
       "      <th></th>\n",
       "      <th>depth</th>\n",
       "      <th>poro(%)</th>\n",
       "      <th>Perm(mD)</th>\n",
       "    </tr>\n",
       "  </thead>\n",
       "  <tbody>\n",
       "    <tr>\n",
       "      <th>1000</th>\n",
       "      <td>1000</td>\n",
       "      <td>35</td>\n",
       "      <td>500</td>\n",
       "    </tr>\n",
       "    <tr>\n",
       "      <th>1500</th>\n",
       "      <td>1500</td>\n",
       "      <td>30</td>\n",
       "      <td>450</td>\n",
       "    </tr>\n",
       "    <tr>\n",
       "      <th>2000</th>\n",
       "      <td>2000</td>\n",
       "      <td>25</td>\n",
       "      <td>150</td>\n",
       "    </tr>\n",
       "  </tbody>\n",
       "</table>\n",
       "</div>"
      ],
      "text/plain": [
       "      depth  poro(%)  Perm(mD)\n",
       "1000   1000       35       500\n",
       "1500   1500       30       450\n",
       "2000   2000       25       150"
      ]
     },
     "execution_count": 19,
     "metadata": {},
     "output_type": "execute_result"
    }
   ],
   "source": [
    "df_field"
   ]
  },
  {
   "cell_type": "code",
   "execution_count": 20,
   "id": "5b97d9ad",
   "metadata": {},
   "outputs": [
    {
     "data": {
      "text/plain": [
       "array([<AxesSubplot:>, <AxesSubplot:>, <AxesSubplot:>], dtype=object)"
      ]
     },
     "execution_count": 20,
     "metadata": {},
     "output_type": "execute_result"
    },
    {
     "data": {
      "image/png": "[encoded data removed]",
      "text/plain": [
       "<Figure size 864x432 with 3 Axes>"
      ]
     },
     "metadata": {
      "needs_background": "light"
     },
     "output_type": "display_data"
    }
   ],
   "source": [
    "df_field.plot(subplots=True, figsize=(12, 6))"
   ]
  },
  {
   "cell_type": "markdown",
   "id": "eb13de80",
   "metadata": {},
   "source": [
    "### Accessing Columns and Rows"
   ]
  },
  {
   "cell_type": "code",
   "execution_count": 21,
   "id": "332f8712",
   "metadata": {},
   "outputs": [
    {
     "data": {
      "text/html": [
       "<div>\n",
       "<style scoped>\n",
       "    .dataframe tbody tr th:only-of-type {\n",
       "        vertical-align: middle;\n",
       "    }\n",
       "\n",
       "    .dataframe tbody tr th {\n",
       "        vertical-align: top;\n",
       "    }\n",
       "\n",
       "    .dataframe thead th {\n",
       "        text-align: right;\n",
       "    }\n",
       "</style>\n",
       "<table border=\"1\" class=\"dataframe\">\n",
       "  <thead>\n",
       "    <tr style=\"text-align: right;\">\n",
       "      <th></th>\n",
       "      <th>depth</th>\n",
       "      <th>poro(%)</th>\n",
       "      <th>Perm(mD)</th>\n",
       "    </tr>\n",
       "  </thead>\n",
       "  <tbody>\n",
       "    <tr>\n",
       "      <th>1000</th>\n",
       "      <td>1000</td>\n",
       "      <td>35</td>\n",
       "      <td>500</td>\n",
       "    </tr>\n",
       "    <tr>\n",
       "      <th>1500</th>\n",
       "      <td>1500</td>\n",
       "      <td>30</td>\n",
       "      <td>450</td>\n",
       "    </tr>\n",
       "    <tr>\n",
       "      <th>2000</th>\n",
       "      <td>2000</td>\n",
       "      <td>25</td>\n",
       "      <td>150</td>\n",
       "    </tr>\n",
       "  </tbody>\n",
       "</table>\n",
       "</div>"
      ],
      "text/plain": [
       "      depth  poro(%)  Perm(mD)\n",
       "1000   1000       35       500\n",
       "1500   1500       30       450\n",
       "2000   2000       25       150"
      ]
     },
     "execution_count": 21,
     "metadata": {},
     "output_type": "execute_result"
    }
   ],
   "source": [
    "df_field"
   ]
  },
  {
   "cell_type": "code",
   "execution_count": 22,
   "id": "c0f9d96e",
   "metadata": {},
   "outputs": [],
   "source": [
    "# df['columnname']"
   ]
  },
  {
   "cell_type": "code",
   "execution_count": 23,
   "id": "facaa2e7",
   "metadata": {},
   "outputs": [
    {
     "data": {
      "text/plain": [
       "1000    35\n",
       "1500    30\n",
       "2000    25\n",
       "Name: poro(%), dtype: int64"
      ]
     },
     "execution_count": 23,
     "metadata": {},
     "output_type": "execute_result"
    }
   ],
   "source": [
    "df_field['poro(%)']"
   ]
  },
  {
   "cell_type": "code",
   "execution_count": 24,
   "id": "3d17a63d",
   "metadata": {},
   "outputs": [
    {
     "data": {
      "text/plain": [
       "pandas.core.series.Series"
      ]
     },
     "execution_count": 24,
     "metadata": {},
     "output_type": "execute_result"
    }
   ],
   "source": [
    "type(df_field['poro(%)'])"
   ]
  },
  {
   "cell_type": "code",
   "execution_count": 25,
   "id": "ae1c9dc6",
   "metadata": {},
   "outputs": [
    {
     "data": {
      "text/plain": [
       "<AxesSubplot:>"
      ]
     },
     "execution_count": 25,
     "metadata": {},
     "output_type": "execute_result"
    },
    {
     "data": {
      "image/png": "[encoded data removed]",
      "text/plain": [
       "<Figure size 576x144 with 1 Axes>"
      ]
     },
     "metadata": {
      "needs_background": "light"
     },
     "output_type": "display_data"
    }
   ],
   "source": [
    "df_field['poro(%)'].plot(figsize=(8,2))"
   ]
  },
  {
   "cell_type": "code",
   "execution_count": 26,
   "id": "c8a1a887",
   "metadata": {},
   "outputs": [
    {
     "data": {
      "text/plain": [
       "<AxesSubplot:>"
      ]
     },
     "execution_count": 26,
     "metadata": {},
     "output_type": "execute_result"
    },
    {
     "data": {
      "image/png": "[encoded data removed]",
      "text/plain": [
       "<Figure size 576x144 with 1 Axes>"
      ]
     },
     "metadata": {
      "needs_background": "light"
     },
     "output_type": "display_data"
    }
   ],
   "source": [
    "df_field['Perm(mD)'].plot(figsize=(8,2))"
   ]
  },
  {
   "cell_type": "code",
   "execution_count": 27,
   "id": "792de51e",
   "metadata": {},
   "outputs": [
    {
     "data": {
      "text/html": [
       "<div>\n",
       "<style scoped>\n",
       "    .dataframe tbody tr th:only-of-type {\n",
       "        vertical-align: middle;\n",
       "    }\n",
       "\n",
       "    .dataframe tbody tr th {\n",
       "        vertical-align: top;\n",
       "    }\n",
       "\n",
       "    .dataframe thead th {\n",
       "        text-align: right;\n",
       "    }\n",
       "</style>\n",
       "<table border=\"1\" class=\"dataframe\">\n",
       "  <thead>\n",
       "    <tr style=\"text-align: right;\">\n",
       "      <th></th>\n",
       "      <th>poro(%)</th>\n",
       "      <th>Perm(mD)</th>\n",
       "    </tr>\n",
       "  </thead>\n",
       "  <tbody>\n",
       "    <tr>\n",
       "      <th>1000</th>\n",
       "      <td>35</td>\n",
       "      <td>500</td>\n",
       "    </tr>\n",
       "    <tr>\n",
       "      <th>1500</th>\n",
       "      <td>30</td>\n",
       "      <td>450</td>\n",
       "    </tr>\n",
       "    <tr>\n",
       "      <th>2000</th>\n",
       "      <td>25</td>\n",
       "      <td>150</td>\n",
       "    </tr>\n",
       "  </tbody>\n",
       "</table>\n",
       "</div>"
      ],
      "text/plain": [
       "      poro(%)  Perm(mD)\n",
       "1000       35       500\n",
       "1500       30       450\n",
       "2000       25       150"
      ]
     },
     "execution_count": 27,
     "metadata": {},
     "output_type": "execute_result"
    }
   ],
   "source": [
    "df_field[['poro(%)','Perm(mD)']]"
   ]
  },
  {
   "cell_type": "markdown",
   "id": "63222b57",
   "metadata": {},
   "source": [
    "### Acessing Rows, Columns, Range of Rows/Columns"
   ]
  },
  {
   "cell_type": "markdown",
   "id": "b8f08381",
   "metadata": {},
   "source": [
    "1. loc : labels \n",
    "2. iloc : index\n",
    "\n",
    "\n",
    "df.loc[loc1 :loc2, loc1:loc2]"
   ]
  },
  {
   "cell_type": "code",
   "execution_count": 28,
   "id": "002347e9",
   "metadata": {},
   "outputs": [],
   "source": [
    "## Excercise : Access the Poro-Perm Columns and last 2 rows\n",
    "#### 1. Using loc : both start and end are included"
   ]
  },
  {
   "cell_type": "code",
   "execution_count": 29,
   "id": "67280dd3",
   "metadata": {},
   "outputs": [
    {
     "data": {
      "text/html": [
       "<div>\n",
       "<style scoped>\n",
       "    .dataframe tbody tr th:only-of-type {\n",
       "        vertical-align: middle;\n",
       "    }\n",
       "\n",
       "    .dataframe tbody tr th {\n",
       "        vertical-align: top;\n",
       "    }\n",
       "\n",
       "    .dataframe thead th {\n",
       "        text-align: right;\n",
       "    }\n",
       "</style>\n",
       "<table border=\"1\" class=\"dataframe\">\n",
       "  <thead>\n",
       "    <tr style=\"text-align: right;\">\n",
       "      <th></th>\n",
       "      <th>depth</th>\n",
       "      <th>poro(%)</th>\n",
       "      <th>Perm(mD)</th>\n",
       "    </tr>\n",
       "  </thead>\n",
       "  <tbody>\n",
       "    <tr>\n",
       "      <th>1000</th>\n",
       "      <td>1000</td>\n",
       "      <td>35</td>\n",
       "      <td>500</td>\n",
       "    </tr>\n",
       "    <tr>\n",
       "      <th>1500</th>\n",
       "      <td>1500</td>\n",
       "      <td>30</td>\n",
       "      <td>450</td>\n",
       "    </tr>\n",
       "    <tr>\n",
       "      <th>2000</th>\n",
       "      <td>2000</td>\n",
       "      <td>25</td>\n",
       "      <td>150</td>\n",
       "    </tr>\n",
       "  </tbody>\n",
       "</table>\n",
       "</div>"
      ],
      "text/plain": [
       "      depth  poro(%)  Perm(mD)\n",
       "1000   1000       35       500\n",
       "1500   1500       30       450\n",
       "2000   2000       25       150"
      ]
     },
     "execution_count": 29,
     "metadata": {},
     "output_type": "execute_result"
    }
   ],
   "source": [
    "df_field"
   ]
  },
  {
   "cell_type": "code",
   "execution_count": 30,
   "id": "ab3bd7b0",
   "metadata": {},
   "outputs": [
    {
     "data": {
      "text/html": [
       "<div>\n",
       "<style scoped>\n",
       "    .dataframe tbody tr th:only-of-type {\n",
       "        vertical-align: middle;\n",
       "    }\n",
       "\n",
       "    .dataframe tbody tr th {\n",
       "        vertical-align: top;\n",
       "    }\n",
       "\n",
       "    .dataframe thead th {\n",
       "        text-align: right;\n",
       "    }\n",
       "</style>\n",
       "<table border=\"1\" class=\"dataframe\">\n",
       "  <thead>\n",
       "    <tr style=\"text-align: right;\">\n",
       "      <th></th>\n",
       "      <th>poro(%)</th>\n",
       "      <th>Perm(mD)</th>\n",
       "    </tr>\n",
       "  </thead>\n",
       "  <tbody>\n",
       "    <tr>\n",
       "      <th>1500</th>\n",
       "      <td>30</td>\n",
       "      <td>450</td>\n",
       "    </tr>\n",
       "    <tr>\n",
       "      <th>2000</th>\n",
       "      <td>25</td>\n",
       "      <td>150</td>\n",
       "    </tr>\n",
       "  </tbody>\n",
       "</table>\n",
       "</div>"
      ],
      "text/plain": [
       "      poro(%)  Perm(mD)\n",
       "1500       30       450\n",
       "2000       25       150"
      ]
     },
     "execution_count": 30,
     "metadata": {},
     "output_type": "execute_result"
    }
   ],
   "source": [
    "df_field.loc[1500:2000, 'poro(%)':'Perm(mD)']"
   ]
  },
  {
   "cell_type": "code",
   "execution_count": 31,
   "id": "5e0dcc67",
   "metadata": {},
   "outputs": [],
   "source": [
    "## Excercise 2 : All columns but only 2000 Depth row"
   ]
  },
  {
   "cell_type": "code",
   "execution_count": 32,
   "id": "7dbf576a",
   "metadata": {},
   "outputs": [
    {
     "data": {
      "text/html": [
       "<div>\n",
       "<style scoped>\n",
       "    .dataframe tbody tr th:only-of-type {\n",
       "        vertical-align: middle;\n",
       "    }\n",
       "\n",
       "    .dataframe tbody tr th {\n",
       "        vertical-align: top;\n",
       "    }\n",
       "\n",
       "    .dataframe thead th {\n",
       "        text-align: right;\n",
       "    }\n",
       "</style>\n",
       "<table border=\"1\" class=\"dataframe\">\n",
       "  <thead>\n",
       "    <tr style=\"text-align: right;\">\n",
       "      <th></th>\n",
       "      <th>depth</th>\n",
       "      <th>poro(%)</th>\n",
       "      <th>Perm(mD)</th>\n",
       "    </tr>\n",
       "  </thead>\n",
       "  <tbody>\n",
       "    <tr>\n",
       "      <th>2000</th>\n",
       "      <td>2000</td>\n",
       "      <td>25</td>\n",
       "      <td>150</td>\n",
       "    </tr>\n",
       "  </tbody>\n",
       "</table>\n",
       "</div>"
      ],
      "text/plain": [
       "      depth  poro(%)  Perm(mD)\n",
       "2000   2000       25       150"
      ]
     },
     "execution_count": 32,
     "metadata": {},
     "output_type": "execute_result"
    }
   ],
   "source": [
    "df_field.loc[2000:2000, :]"
   ]
  },
  {
   "cell_type": "markdown",
   "id": "cfdf6972",
   "metadata": {},
   "source": [
    "#### 2. iloc : start is included, end is excluded"
   ]
  },
  {
   "cell_type": "code",
   "execution_count": 33,
   "id": "90911502",
   "metadata": {},
   "outputs": [
    {
     "data": {
      "text/html": [
       "<div>\n",
       "<style scoped>\n",
       "    .dataframe tbody tr th:only-of-type {\n",
       "        vertical-align: middle;\n",
       "    }\n",
       "\n",
       "    .dataframe tbody tr th {\n",
       "        vertical-align: top;\n",
       "    }\n",
       "\n",
       "    .dataframe thead th {\n",
       "        text-align: right;\n",
       "    }\n",
       "</style>\n",
       "<table border=\"1\" class=\"dataframe\">\n",
       "  <thead>\n",
       "    <tr style=\"text-align: right;\">\n",
       "      <th></th>\n",
       "      <th>depth</th>\n",
       "      <th>poro(%)</th>\n",
       "      <th>Perm(mD)</th>\n",
       "    </tr>\n",
       "  </thead>\n",
       "  <tbody>\n",
       "    <tr>\n",
       "      <th>1000</th>\n",
       "      <td>1000</td>\n",
       "      <td>35</td>\n",
       "      <td>500</td>\n",
       "    </tr>\n",
       "    <tr>\n",
       "      <th>1500</th>\n",
       "      <td>1500</td>\n",
       "      <td>30</td>\n",
       "      <td>450</td>\n",
       "    </tr>\n",
       "    <tr>\n",
       "      <th>2000</th>\n",
       "      <td>2000</td>\n",
       "      <td>25</td>\n",
       "      <td>150</td>\n",
       "    </tr>\n",
       "  </tbody>\n",
       "</table>\n",
       "</div>"
      ],
      "text/plain": [
       "      depth  poro(%)  Perm(mD)\n",
       "1000   1000       35       500\n",
       "1500   1500       30       450\n",
       "2000   2000       25       150"
      ]
     },
     "execution_count": 33,
     "metadata": {},
     "output_type": "execute_result"
    }
   ],
   "source": [
    "df_field"
   ]
  },
  {
   "cell_type": "code",
   "execution_count": 34,
   "id": "93ac03bd",
   "metadata": {},
   "outputs": [],
   "source": [
    "## Excercise : Access the Poro-Perm Columns and last 2 rows"
   ]
  },
  {
   "cell_type": "code",
   "execution_count": 35,
   "id": "82a7894b",
   "metadata": {},
   "outputs": [
    {
     "data": {
      "text/plain": [
       "35"
      ]
     },
     "execution_count": 35,
     "metadata": {},
     "output_type": "execute_result"
    }
   ],
   "source": [
    "#example, 1st row, 2nd column\n",
    "df_field.iloc[0, 1]"
   ]
  },
  {
   "cell_type": "code",
   "execution_count": 36,
   "id": "755214c7",
   "metadata": {},
   "outputs": [
    {
     "data": {
      "text/html": [
       "<div>\n",
       "<style scoped>\n",
       "    .dataframe tbody tr th:only-of-type {\n",
       "        vertical-align: middle;\n",
       "    }\n",
       "\n",
       "    .dataframe tbody tr th {\n",
       "        vertical-align: top;\n",
       "    }\n",
       "\n",
       "    .dataframe thead th {\n",
       "        text-align: right;\n",
       "    }\n",
       "</style>\n",
       "<table border=\"1\" class=\"dataframe\">\n",
       "  <thead>\n",
       "    <tr style=\"text-align: right;\">\n",
       "      <th></th>\n",
       "      <th>depth</th>\n",
       "      <th>poro(%)</th>\n",
       "      <th>Perm(mD)</th>\n",
       "    </tr>\n",
       "  </thead>\n",
       "  <tbody>\n",
       "    <tr>\n",
       "      <th>1000</th>\n",
       "      <td>1000</td>\n",
       "      <td>35</td>\n",
       "      <td>500</td>\n",
       "    </tr>\n",
       "  </tbody>\n",
       "</table>\n",
       "</div>"
      ],
      "text/plain": [
       "      depth  poro(%)  Perm(mD)\n",
       "1000   1000       35       500"
      ]
     },
     "execution_count": 36,
     "metadata": {},
     "output_type": "execute_result"
    }
   ],
   "source": [
    "#example, 1st row, All columns\n",
    "df_field.iloc[0:0+1, :]"
   ]
  },
  {
   "cell_type": "code",
   "execution_count": 37,
   "id": "59bc6a0d",
   "metadata": {},
   "outputs": [
    {
     "data": {
      "text/html": [
       "<div>\n",
       "<style scoped>\n",
       "    .dataframe tbody tr th:only-of-type {\n",
       "        vertical-align: middle;\n",
       "    }\n",
       "\n",
       "    .dataframe tbody tr th {\n",
       "        vertical-align: top;\n",
       "    }\n",
       "\n",
       "    .dataframe thead th {\n",
       "        text-align: right;\n",
       "    }\n",
       "</style>\n",
       "<table border=\"1\" class=\"dataframe\">\n",
       "  <thead>\n",
       "    <tr style=\"text-align: right;\">\n",
       "      <th></th>\n",
       "      <th>poro(%)</th>\n",
       "      <th>Perm(mD)</th>\n",
       "    </tr>\n",
       "  </thead>\n",
       "  <tbody>\n",
       "    <tr>\n",
       "      <th>1500</th>\n",
       "      <td>30</td>\n",
       "      <td>450</td>\n",
       "    </tr>\n",
       "    <tr>\n",
       "      <th>2000</th>\n",
       "      <td>25</td>\n",
       "      <td>150</td>\n",
       "    </tr>\n",
       "  </tbody>\n",
       "</table>\n",
       "</div>"
      ],
      "text/plain": [
       "      poro(%)  Perm(mD)\n",
       "1500       30       450\n",
       "2000       25       150"
      ]
     },
     "execution_count": 37,
     "metadata": {},
     "output_type": "execute_result"
    }
   ],
   "source": [
    "# Access the Poro-Perm Columns and last 2 rows\n",
    "df_field.iloc[1:3, 1:3]"
   ]
  },
  {
   "cell_type": "code",
   "execution_count": 38,
   "id": "3884cfe8",
   "metadata": {},
   "outputs": [
    {
     "data": {
      "text/html": [
       "<div>\n",
       "<style scoped>\n",
       "    .dataframe tbody tr th:only-of-type {\n",
       "        vertical-align: middle;\n",
       "    }\n",
       "\n",
       "    .dataframe tbody tr th {\n",
       "        vertical-align: top;\n",
       "    }\n",
       "\n",
       "    .dataframe thead th {\n",
       "        text-align: right;\n",
       "    }\n",
       "</style>\n",
       "<table border=\"1\" class=\"dataframe\">\n",
       "  <thead>\n",
       "    <tr style=\"text-align: right;\">\n",
       "      <th></th>\n",
       "      <th>poro(%)</th>\n",
       "      <th>Perm(mD)</th>\n",
       "    </tr>\n",
       "  </thead>\n",
       "  <tbody>\n",
       "    <tr>\n",
       "      <th>1500</th>\n",
       "      <td>30</td>\n",
       "      <td>450</td>\n",
       "    </tr>\n",
       "    <tr>\n",
       "      <th>2000</th>\n",
       "      <td>25</td>\n",
       "      <td>150</td>\n",
       "    </tr>\n",
       "  </tbody>\n",
       "</table>\n",
       "</div>"
      ],
      "text/plain": [
       "      poro(%)  Perm(mD)\n",
       "1500       30       450\n",
       "2000       25       150"
      ]
     },
     "execution_count": 38,
     "metadata": {},
     "output_type": "execute_result"
    }
   ],
   "source": [
    "# Access the Poro-Perm Columns and last 2 rows\n",
    "df_field.iloc[1:10, 1:10]"
   ]
  },
  {
   "cell_type": "markdown",
   "id": "611e2662",
   "metadata": {},
   "source": [
    "### creating new columns"
   ]
  },
  {
   "cell_type": "code",
   "execution_count": 39,
   "id": "781fd6f6",
   "metadata": {},
   "outputs": [
    {
     "data": {
      "text/html": [
       "<div>\n",
       "<style scoped>\n",
       "    .dataframe tbody tr th:only-of-type {\n",
       "        vertical-align: middle;\n",
       "    }\n",
       "\n",
       "    .dataframe tbody tr th {\n",
       "        vertical-align: top;\n",
       "    }\n",
       "\n",
       "    .dataframe thead th {\n",
       "        text-align: right;\n",
       "    }\n",
       "</style>\n",
       "<table border=\"1\" class=\"dataframe\">\n",
       "  <thead>\n",
       "    <tr style=\"text-align: right;\">\n",
       "      <th></th>\n",
       "      <th>depth</th>\n",
       "      <th>poro(%)</th>\n",
       "      <th>Perm(mD)</th>\n",
       "    </tr>\n",
       "  </thead>\n",
       "  <tbody>\n",
       "    <tr>\n",
       "      <th>1000</th>\n",
       "      <td>1000</td>\n",
       "      <td>35</td>\n",
       "      <td>500</td>\n",
       "    </tr>\n",
       "    <tr>\n",
       "      <th>1500</th>\n",
       "      <td>1500</td>\n",
       "      <td>30</td>\n",
       "      <td>450</td>\n",
       "    </tr>\n",
       "    <tr>\n",
       "      <th>2000</th>\n",
       "      <td>2000</td>\n",
       "      <td>25</td>\n",
       "      <td>150</td>\n",
       "    </tr>\n",
       "  </tbody>\n",
       "</table>\n",
       "</div>"
      ],
      "text/plain": [
       "      depth  poro(%)  Perm(mD)\n",
       "1000   1000       35       500\n",
       "1500   1500       30       450\n",
       "2000   2000       25       150"
      ]
     },
     "execution_count": 39,
     "metadata": {},
     "output_type": "execute_result"
    }
   ],
   "source": [
    "df_field"
   ]
  },
  {
   "cell_type": "code",
   "execution_count": 40,
   "id": "ba3b80e8",
   "metadata": {},
   "outputs": [],
   "source": [
    "df_field['PoroPermProduct'] = (0.01*df_field['poro(%)'])*df_field['Perm(mD)']"
   ]
  },
  {
   "cell_type": "code",
   "execution_count": 41,
   "id": "46689122",
   "metadata": {},
   "outputs": [
    {
     "data": {
      "text/html": [
       "<div>\n",
       "<style scoped>\n",
       "    .dataframe tbody tr th:only-of-type {\n",
       "        vertical-align: middle;\n",
       "    }\n",
       "\n",
       "    .dataframe tbody tr th {\n",
       "        vertical-align: top;\n",
       "    }\n",
       "\n",
       "    .dataframe thead th {\n",
       "        text-align: right;\n",
       "    }\n",
       "</style>\n",
       "<table border=\"1\" class=\"dataframe\">\n",
       "  <thead>\n",
       "    <tr style=\"text-align: right;\">\n",
       "      <th></th>\n",
       "      <th>depth</th>\n",
       "      <th>poro(%)</th>\n",
       "      <th>Perm(mD)</th>\n",
       "      <th>PoroPermProduct</th>\n",
       "    </tr>\n",
       "  </thead>\n",
       "  <tbody>\n",
       "    <tr>\n",
       "      <th>1000</th>\n",
       "      <td>1000</td>\n",
       "      <td>35</td>\n",
       "      <td>500</td>\n",
       "      <td>175.0</td>\n",
       "    </tr>\n",
       "    <tr>\n",
       "      <th>1500</th>\n",
       "      <td>1500</td>\n",
       "      <td>30</td>\n",
       "      <td>450</td>\n",
       "      <td>135.0</td>\n",
       "    </tr>\n",
       "    <tr>\n",
       "      <th>2000</th>\n",
       "      <td>2000</td>\n",
       "      <td>25</td>\n",
       "      <td>150</td>\n",
       "      <td>37.5</td>\n",
       "    </tr>\n",
       "  </tbody>\n",
       "</table>\n",
       "</div>"
      ],
      "text/plain": [
       "      depth  poro(%)  Perm(mD)  PoroPermProduct\n",
       "1000   1000       35       500            175.0\n",
       "1500   1500       30       450            135.0\n",
       "2000   2000       25       150             37.5"
      ]
     },
     "execution_count": 41,
     "metadata": {},
     "output_type": "execute_result"
    }
   ],
   "source": [
    "df_field"
   ]
  },
  {
   "cell_type": "code",
   "execution_count": 46,
   "id": "ed3ef30c",
   "metadata": {},
   "outputs": [],
   "source": [
    "geothermal_grad = 0.008\n",
    "df_field['Temp(C)'] = df_field['depth']*geothermal_grad"
   ]
  },
  {
   "cell_type": "code",
   "execution_count": 47,
   "id": "84963cca",
   "metadata": {},
   "outputs": [
    {
     "data": {
      "text/html": [
       "<div>\n",
       "<style scoped>\n",
       "    .dataframe tbody tr th:only-of-type {\n",
       "        vertical-align: middle;\n",
       "    }\n",
       "\n",
       "    .dataframe tbody tr th {\n",
       "        vertical-align: top;\n",
       "    }\n",
       "\n",
       "    .dataframe thead th {\n",
       "        text-align: right;\n",
       "    }\n",
       "</style>\n",
       "<table border=\"1\" class=\"dataframe\">\n",
       "  <thead>\n",
       "    <tr style=\"text-align: right;\">\n",
       "      <th></th>\n",
       "      <th>depth</th>\n",
       "      <th>poro(%)</th>\n",
       "      <th>Perm(mD)</th>\n",
       "      <th>PoroPermProduct</th>\n",
       "      <th>Temp(C)</th>\n",
       "    </tr>\n",
       "  </thead>\n",
       "  <tbody>\n",
       "    <tr>\n",
       "      <th>1000</th>\n",
       "      <td>1000</td>\n",
       "      <td>35</td>\n",
       "      <td>500</td>\n",
       "      <td>175.0</td>\n",
       "      <td>8.0</td>\n",
       "    </tr>\n",
       "    <tr>\n",
       "      <th>1500</th>\n",
       "      <td>1500</td>\n",
       "      <td>30</td>\n",
       "      <td>450</td>\n",
       "      <td>135.0</td>\n",
       "      <td>12.0</td>\n",
       "    </tr>\n",
       "    <tr>\n",
       "      <th>2000</th>\n",
       "      <td>2000</td>\n",
       "      <td>25</td>\n",
       "      <td>150</td>\n",
       "      <td>37.5</td>\n",
       "      <td>16.0</td>\n",
       "    </tr>\n",
       "  </tbody>\n",
       "</table>\n",
       "</div>"
      ],
      "text/plain": [
       "      depth  poro(%)  Perm(mD)  PoroPermProduct  Temp(C)\n",
       "1000   1000       35       500            175.0      8.0\n",
       "1500   1500       30       450            135.0     12.0\n",
       "2000   2000       25       150             37.5     16.0"
      ]
     },
     "execution_count": 47,
     "metadata": {},
     "output_type": "execute_result"
    }
   ],
   "source": [
    "df_field"
   ]
  },
  {
   "cell_type": "markdown",
   "id": "33e02b72",
   "metadata": {},
   "source": [
    "### Dropping a column"
   ]
  },
  {
   "cell_type": "code",
   "execution_count": 48,
   "id": "28b3bbc8",
   "metadata": {},
   "outputs": [],
   "source": [
    "df_field.drop('Temp(C)', axis='columns', inplace=True)"
   ]
  },
  {
   "cell_type": "code",
   "execution_count": 49,
   "id": "010c741a",
   "metadata": {},
   "outputs": [
    {
     "data": {
      "text/html": [
       "<div>\n",
       "<style scoped>\n",
       "    .dataframe tbody tr th:only-of-type {\n",
       "        vertical-align: middle;\n",
       "    }\n",
       "\n",
       "    .dataframe tbody tr th {\n",
       "        vertical-align: top;\n",
       "    }\n",
       "\n",
       "    .dataframe thead th {\n",
       "        text-align: right;\n",
       "    }\n",
       "</style>\n",
       "<table border=\"1\" class=\"dataframe\">\n",
       "  <thead>\n",
       "    <tr style=\"text-align: right;\">\n",
       "      <th></th>\n",
       "      <th>depth</th>\n",
       "      <th>poro(%)</th>\n",
       "      <th>Perm(mD)</th>\n",
       "      <th>PoroPermProduct</th>\n",
       "    </tr>\n",
       "  </thead>\n",
       "  <tbody>\n",
       "    <tr>\n",
       "      <th>1000</th>\n",
       "      <td>1000</td>\n",
       "      <td>35</td>\n",
       "      <td>500</td>\n",
       "      <td>175.0</td>\n",
       "    </tr>\n",
       "    <tr>\n",
       "      <th>1500</th>\n",
       "      <td>1500</td>\n",
       "      <td>30</td>\n",
       "      <td>450</td>\n",
       "      <td>135.0</td>\n",
       "    </tr>\n",
       "    <tr>\n",
       "      <th>2000</th>\n",
       "      <td>2000</td>\n",
       "      <td>25</td>\n",
       "      <td>150</td>\n",
       "      <td>37.5</td>\n",
       "    </tr>\n",
       "  </tbody>\n",
       "</table>\n",
       "</div>"
      ],
      "text/plain": [
       "      depth  poro(%)  Perm(mD)  PoroPermProduct\n",
       "1000   1000       35       500            175.0\n",
       "1500   1500       30       450            135.0\n",
       "2000   2000       25       150             37.5"
      ]
     },
     "execution_count": 49,
     "metadata": {},
     "output_type": "execute_result"
    }
   ],
   "source": [
    "df_field"
   ]
  },
  {
   "cell_type": "markdown",
   "id": "280305a6",
   "metadata": {},
   "source": [
    "### Conditional Selection"
   ]
  },
  {
   "cell_type": "code",
   "execution_count": 50,
   "id": "5726af4b",
   "metadata": {},
   "outputs": [],
   "source": [
    "## Returns Subset of Data based on various > or == or != or < or >= or <= type conditions"
   ]
  },
  {
   "cell_type": "code",
   "execution_count": 51,
   "id": "bb092eb5",
   "metadata": {},
   "outputs": [
    {
     "data": {
      "text/html": [
       "<div>\n",
       "<style scoped>\n",
       "    .dataframe tbody tr th:only-of-type {\n",
       "        vertical-align: middle;\n",
       "    }\n",
       "\n",
       "    .dataframe tbody tr th {\n",
       "        vertical-align: top;\n",
       "    }\n",
       "\n",
       "    .dataframe thead th {\n",
       "        text-align: right;\n",
       "    }\n",
       "</style>\n",
       "<table border=\"1\" class=\"dataframe\">\n",
       "  <thead>\n",
       "    <tr style=\"text-align: right;\">\n",
       "      <th></th>\n",
       "      <th>depth</th>\n",
       "      <th>poro(%)</th>\n",
       "      <th>Perm(mD)</th>\n",
       "      <th>PoroPermProduct</th>\n",
       "    </tr>\n",
       "  </thead>\n",
       "  <tbody>\n",
       "    <tr>\n",
       "      <th>1000</th>\n",
       "      <td>1000</td>\n",
       "      <td>35</td>\n",
       "      <td>500</td>\n",
       "      <td>175.0</td>\n",
       "    </tr>\n",
       "    <tr>\n",
       "      <th>1500</th>\n",
       "      <td>1500</td>\n",
       "      <td>30</td>\n",
       "      <td>450</td>\n",
       "      <td>135.0</td>\n",
       "    </tr>\n",
       "    <tr>\n",
       "      <th>2000</th>\n",
       "      <td>2000</td>\n",
       "      <td>25</td>\n",
       "      <td>150</td>\n",
       "      <td>37.5</td>\n",
       "    </tr>\n",
       "  </tbody>\n",
       "</table>\n",
       "</div>"
      ],
      "text/plain": [
       "      depth  poro(%)  Perm(mD)  PoroPermProduct\n",
       "1000   1000       35       500            175.0\n",
       "1500   1500       30       450            135.0\n",
       "2000   2000       25       150             37.5"
      ]
     },
     "execution_count": 51,
     "metadata": {},
     "output_type": "execute_result"
    }
   ],
   "source": [
    "df_field"
   ]
  },
  {
   "cell_type": "code",
   "execution_count": 52,
   "id": "9e6a34e8",
   "metadata": {},
   "outputs": [],
   "source": [
    "## Example 1 : Print only those rows with a Porosity higher than or equal to 30%"
   ]
  },
  {
   "cell_type": "code",
   "execution_count": 53,
   "id": "b861b580",
   "metadata": {},
   "outputs": [
    {
     "data": {
      "text/html": [
       "<div>\n",
       "<style scoped>\n",
       "    .dataframe tbody tr th:only-of-type {\n",
       "        vertical-align: middle;\n",
       "    }\n",
       "\n",
       "    .dataframe tbody tr th {\n",
       "        vertical-align: top;\n",
       "    }\n",
       "\n",
       "    .dataframe thead th {\n",
       "        text-align: right;\n",
       "    }\n",
       "</style>\n",
       "<table border=\"1\" class=\"dataframe\">\n",
       "  <thead>\n",
       "    <tr style=\"text-align: right;\">\n",
       "      <th></th>\n",
       "      <th>depth</th>\n",
       "      <th>poro(%)</th>\n",
       "      <th>Perm(mD)</th>\n",
       "      <th>PoroPermProduct</th>\n",
       "    </tr>\n",
       "  </thead>\n",
       "  <tbody>\n",
       "    <tr>\n",
       "      <th>1000</th>\n",
       "      <td>1000</td>\n",
       "      <td>35</td>\n",
       "      <td>500</td>\n",
       "      <td>175.0</td>\n",
       "    </tr>\n",
       "    <tr>\n",
       "      <th>1500</th>\n",
       "      <td>1500</td>\n",
       "      <td>30</td>\n",
       "      <td>450</td>\n",
       "      <td>135.0</td>\n",
       "    </tr>\n",
       "  </tbody>\n",
       "</table>\n",
       "</div>"
      ],
      "text/plain": [
       "      depth  poro(%)  Perm(mD)  PoroPermProduct\n",
       "1000   1000       35       500            175.0\n",
       "1500   1500       30       450            135.0"
      ]
     },
     "execution_count": 53,
     "metadata": {},
     "output_type": "execute_result"
    }
   ],
   "source": [
    "df_field[df_field['poro(%)'] >= 30]"
   ]
  },
  {
   "cell_type": "code",
   "execution_count": 64,
   "id": "be090a94",
   "metadata": {},
   "outputs": [],
   "source": [
    "# Condition 1 : Poro >= 30\n",
    "\n",
    "# Condition2 : Perm >= 500 mD\n",
    "\n",
    "# Condition 1 AND Conditon 2 Must be followed"
   ]
  },
  {
   "cell_type": "code",
   "execution_count": 65,
   "id": "6635ddf2",
   "metadata": {},
   "outputs": [],
   "source": [
    "#poro_threshhold = float(input('Enter Poro(%) Threshold: '))\n",
    "#perm_threshhold = float(input('Enter Perm(mD) Threshold: '))\n",
    "\n",
    "\n",
    "#df_field[(df_field['poro(%)'] >= poro_threshhold) & (df_field['Perm(mD)'] >= perm_threshhold)]"
   ]
  },
  {
   "cell_type": "code",
   "execution_count": 66,
   "id": "8173b3a5",
   "metadata": {},
   "outputs": [],
   "source": [
    "#df_field[(df_field['poro(%)'] >= poro_threshhold) | (df_field['Perm(mD)'] >= perm_threshhold)]"
   ]
  },
  {
   "cell_type": "markdown",
   "id": "c19f7d54",
   "metadata": {},
   "source": [
    "### Input & Output"
   ]
  },
  {
   "cell_type": "code",
   "execution_count": 72,
   "id": "30abf121",
   "metadata": {},
   "outputs": [],
   "source": [
    "df_field.to_csv('PoroPermData_1405.csv')"
   ]
  },
  {
   "cell_type": "code",
   "execution_count": 73,
   "id": "628f4c83",
   "metadata": {},
   "outputs": [
    {
     "data": {
      "text/html": [
       "<div>\n",
       "<style scoped>\n",
       "    .dataframe tbody tr th:only-of-type {\n",
       "        vertical-align: middle;\n",
       "    }\n",
       "\n",
       "    .dataframe tbody tr th {\n",
       "        vertical-align: top;\n",
       "    }\n",
       "\n",
       "    .dataframe thead th {\n",
       "        text-align: right;\n",
       "    }\n",
       "</style>\n",
       "<table border=\"1\" class=\"dataframe\">\n",
       "  <thead>\n",
       "    <tr style=\"text-align: right;\">\n",
       "      <th></th>\n",
       "      <th>Unnamed: 0</th>\n",
       "      <th>depth</th>\n",
       "      <th>poro(%)</th>\n",
       "      <th>Perm(mD)</th>\n",
       "      <th>PoroPermProduct</th>\n",
       "    </tr>\n",
       "  </thead>\n",
       "  <tbody>\n",
       "    <tr>\n",
       "      <th>0</th>\n",
       "      <td>1000</td>\n",
       "      <td>1000</td>\n",
       "      <td>35</td>\n",
       "      <td>500</td>\n",
       "      <td>175.0</td>\n",
       "    </tr>\n",
       "    <tr>\n",
       "      <th>1</th>\n",
       "      <td>1500</td>\n",
       "      <td>1500</td>\n",
       "      <td>30</td>\n",
       "      <td>450</td>\n",
       "      <td>135.0</td>\n",
       "    </tr>\n",
       "    <tr>\n",
       "      <th>2</th>\n",
       "      <td>2000</td>\n",
       "      <td>2000</td>\n",
       "      <td>25</td>\n",
       "      <td>150</td>\n",
       "      <td>37.5</td>\n",
       "    </tr>\n",
       "  </tbody>\n",
       "</table>\n",
       "</div>"
      ],
      "text/plain": [
       "   Unnamed: 0  depth  poro(%)  Perm(mD)  PoroPermProduct\n",
       "0        1000   1000       35       500            175.0\n",
       "1        1500   1500       30       450            135.0\n",
       "2        2000   2000       25       150             37.5"
      ]
     },
     "execution_count": 73,
     "metadata": {},
     "output_type": "execute_result"
    }
   ],
   "source": [
    "pd.read_csv('PoroPermData_1405.csv')"
   ]
  },
  {
   "cell_type": "markdown",
   "id": "81b4687a",
   "metadata": {},
   "source": [
    "## 1. GroupBy 2. Joining Tables / Merging Tables  "
   ]
  },
  {
   "cell_type": "code",
   "execution_count": 3,
   "id": "c32a3ebc",
   "metadata": {},
   "outputs": [],
   "source": [
    "import pandas as pd"
   ]
  },
  {
   "cell_type": "code",
   "execution_count": 2,
   "id": "fccc4937",
   "metadata": {},
   "outputs": [],
   "source": [
    "df_lith_poro_perm = {'LITH':['SST', 'SST', 'LST', 'LST', 'SST', 'LST'], \n",
    "                    'PORO(%)': [31, 22, 10, 9, 24, 11]}\n"
   ]
  },
  {
   "cell_type": "code",
   "execution_count": 3,
   "id": "ab541212",
   "metadata": {},
   "outputs": [],
   "source": [
    "df_lith_poro_perm = pd.DataFrame(df_lith_poro_perm)"
   ]
  },
  {
   "cell_type": "code",
   "execution_count": 4,
   "id": "c57ce887",
   "metadata": {},
   "outputs": [
    {
     "data": {
      "text/html": [
       "<div>\n",
       "<style scoped>\n",
       "    .dataframe tbody tr th:only-of-type {\n",
       "        vertical-align: middle;\n",
       "    }\n",
       "\n",
       "    .dataframe tbody tr th {\n",
       "        vertical-align: top;\n",
       "    }\n",
       "\n",
       "    .dataframe thead th {\n",
       "        text-align: right;\n",
       "    }\n",
       "</style>\n",
       "<table border=\"1\" class=\"dataframe\">\n",
       "  <thead>\n",
       "    <tr style=\"text-align: right;\">\n",
       "      <th></th>\n",
       "      <th>LITH</th>\n",
       "      <th>PORO(%)</th>\n",
       "    </tr>\n",
       "  </thead>\n",
       "  <tbody>\n",
       "    <tr>\n",
       "      <th>0</th>\n",
       "      <td>SST</td>\n",
       "      <td>31</td>\n",
       "    </tr>\n",
       "    <tr>\n",
       "      <th>1</th>\n",
       "      <td>SST</td>\n",
       "      <td>22</td>\n",
       "    </tr>\n",
       "    <tr>\n",
       "      <th>2</th>\n",
       "      <td>LST</td>\n",
       "      <td>10</td>\n",
       "    </tr>\n",
       "    <tr>\n",
       "      <th>3</th>\n",
       "      <td>LST</td>\n",
       "      <td>9</td>\n",
       "    </tr>\n",
       "    <tr>\n",
       "      <th>4</th>\n",
       "      <td>SST</td>\n",
       "      <td>24</td>\n",
       "    </tr>\n",
       "    <tr>\n",
       "      <th>5</th>\n",
       "      <td>LST</td>\n",
       "      <td>11</td>\n",
       "    </tr>\n",
       "  </tbody>\n",
       "</table>\n",
       "</div>"
      ],
      "text/plain": [
       "  LITH  PORO(%)\n",
       "0  SST       31\n",
       "1  SST       22\n",
       "2  LST       10\n",
       "3  LST        9\n",
       "4  SST       24\n",
       "5  LST       11"
      ]
     },
     "execution_count": 4,
     "metadata": {},
     "output_type": "execute_result"
    }
   ],
   "source": [
    "df_lith_poro_perm"
   ]
  },
  {
   "cell_type": "code",
   "execution_count": 5,
   "id": "ad707e25",
   "metadata": {},
   "outputs": [],
   "source": [
    "df_lith_poro_perm['Perm(md)'] = 0.15*df_lith_poro_perm['PORO(%)']**2"
   ]
  },
  {
   "cell_type": "code",
   "execution_count": 6,
   "id": "41b5ed68",
   "metadata": {},
   "outputs": [
    {
     "data": {
      "text/html": [
       "<div>\n",
       "<style scoped>\n",
       "    .dataframe tbody tr th:only-of-type {\n",
       "        vertical-align: middle;\n",
       "    }\n",
       "\n",
       "    .dataframe tbody tr th {\n",
       "        vertical-align: top;\n",
       "    }\n",
       "\n",
       "    .dataframe thead th {\n",
       "        text-align: right;\n",
       "    }\n",
       "</style>\n",
       "<table border=\"1\" class=\"dataframe\">\n",
       "  <thead>\n",
       "    <tr style=\"text-align: right;\">\n",
       "      <th></th>\n",
       "      <th>LITH</th>\n",
       "      <th>PORO(%)</th>\n",
       "      <th>Perm(md)</th>\n",
       "    </tr>\n",
       "  </thead>\n",
       "  <tbody>\n",
       "    <tr>\n",
       "      <th>0</th>\n",
       "      <td>SST</td>\n",
       "      <td>31</td>\n",
       "      <td>144.15</td>\n",
       "    </tr>\n",
       "    <tr>\n",
       "      <th>1</th>\n",
       "      <td>SST</td>\n",
       "      <td>22</td>\n",
       "      <td>72.60</td>\n",
       "    </tr>\n",
       "    <tr>\n",
       "      <th>2</th>\n",
       "      <td>LST</td>\n",
       "      <td>10</td>\n",
       "      <td>15.00</td>\n",
       "    </tr>\n",
       "    <tr>\n",
       "      <th>3</th>\n",
       "      <td>LST</td>\n",
       "      <td>9</td>\n",
       "      <td>12.15</td>\n",
       "    </tr>\n",
       "    <tr>\n",
       "      <th>4</th>\n",
       "      <td>SST</td>\n",
       "      <td>24</td>\n",
       "      <td>86.40</td>\n",
       "    </tr>\n",
       "    <tr>\n",
       "      <th>5</th>\n",
       "      <td>LST</td>\n",
       "      <td>11</td>\n",
       "      <td>18.15</td>\n",
       "    </tr>\n",
       "  </tbody>\n",
       "</table>\n",
       "</div>"
      ],
      "text/plain": [
       "  LITH  PORO(%)  Perm(md)\n",
       "0  SST       31    144.15\n",
       "1  SST       22     72.60\n",
       "2  LST       10     15.00\n",
       "3  LST        9     12.15\n",
       "4  SST       24     86.40\n",
       "5  LST       11     18.15"
      ]
     },
     "execution_count": 6,
     "metadata": {},
     "output_type": "execute_result"
    }
   ],
   "source": [
    "df_lith_poro_perm"
   ]
  },
  {
   "cell_type": "code",
   "execution_count": 7,
   "id": "a1871c8c",
   "metadata": {},
   "outputs": [
    {
     "data": {
      "text/plain": [
       "array(['SST', 'LST'], dtype=object)"
      ]
     },
     "execution_count": 7,
     "metadata": {},
     "output_type": "execute_result"
    }
   ],
   "source": [
    "df_lith_poro_perm['LITH'].unique()"
   ]
  },
  {
   "cell_type": "markdown",
   "id": "abeafa06",
   "metadata": {},
   "source": [
    "### Lets implement groupby"
   ]
  },
  {
   "cell_type": "code",
   "execution_count": 11,
   "id": "88853e76",
   "metadata": {},
   "outputs": [],
   "source": [
    "## 1. Avg of Porosities by Lithology"
   ]
  },
  {
   "cell_type": "code",
   "execution_count": 4,
   "id": "65676731",
   "metadata": {},
   "outputs": [],
   "source": [
    "import numpy as np"
   ]
  },
  {
   "cell_type": "code",
   "execution_count": 14,
   "id": "59d8c9df",
   "metadata": {},
   "outputs": [
    {
     "data": {
      "text/html": [
       "<div>\n",
       "<style scoped>\n",
       "    .dataframe tbody tr th:only-of-type {\n",
       "        vertical-align: middle;\n",
       "    }\n",
       "\n",
       "    .dataframe tbody tr th {\n",
       "        vertical-align: top;\n",
       "    }\n",
       "\n",
       "    .dataframe thead th {\n",
       "        text-align: right;\n",
       "    }\n",
       "</style>\n",
       "<table border=\"1\" class=\"dataframe\">\n",
       "  <thead>\n",
       "    <tr style=\"text-align: right;\">\n",
       "      <th></th>\n",
       "      <th>PORO(%)</th>\n",
       "    </tr>\n",
       "    <tr>\n",
       "      <th>LITH</th>\n",
       "      <th></th>\n",
       "    </tr>\n",
       "  </thead>\n",
       "  <tbody>\n",
       "    <tr>\n",
       "      <th>LST</th>\n",
       "      <td>10.000000</td>\n",
       "    </tr>\n",
       "    <tr>\n",
       "      <th>SST</th>\n",
       "      <td>25.666667</td>\n",
       "    </tr>\n",
       "  </tbody>\n",
       "</table>\n",
       "</div>"
      ],
      "text/plain": [
       "        PORO(%)\n",
       "LITH           \n",
       "LST   10.000000\n",
       "SST   25.666667"
      ]
     },
     "execution_count": 14,
     "metadata": {},
     "output_type": "execute_result"
    }
   ],
   "source": [
    "df_lith_poro_perm.groupby(by='LITH').agg(np.mean)[['PORO(%)']]"
   ]
  },
  {
   "cell_type": "code",
   "execution_count": 15,
   "id": "e23876c1",
   "metadata": {},
   "outputs": [],
   "source": [
    "# 2. Count the Number of SST samples and LST Samples"
   ]
  },
  {
   "cell_type": "code",
   "execution_count": 16,
   "id": "89242c0a",
   "metadata": {},
   "outputs": [
    {
     "data": {
      "text/plain": [
       "LST    3\n",
       "SST    3\n",
       "Name: LITH, dtype: int64"
      ]
     },
     "execution_count": 16,
     "metadata": {},
     "output_type": "execute_result"
    }
   ],
   "source": [
    "df_lith_poro_perm['LITH'].value_counts()"
   ]
  },
  {
   "cell_type": "code",
   "execution_count": 17,
   "id": "77260ca2",
   "metadata": {},
   "outputs": [
    {
     "data": {
      "text/html": [
       "<div>\n",
       "<style scoped>\n",
       "    .dataframe tbody tr th:only-of-type {\n",
       "        vertical-align: middle;\n",
       "    }\n",
       "\n",
       "    .dataframe tbody tr th {\n",
       "        vertical-align: top;\n",
       "    }\n",
       "\n",
       "    .dataframe thead th {\n",
       "        text-align: right;\n",
       "    }\n",
       "</style>\n",
       "<table border=\"1\" class=\"dataframe\">\n",
       "  <thead>\n",
       "    <tr style=\"text-align: right;\">\n",
       "      <th></th>\n",
       "      <th>Perm(md)</th>\n",
       "    </tr>\n",
       "    <tr>\n",
       "      <th>LITH</th>\n",
       "      <th></th>\n",
       "    </tr>\n",
       "  </thead>\n",
       "  <tbody>\n",
       "    <tr>\n",
       "      <th>LST</th>\n",
       "      <td>15.10</td>\n",
       "    </tr>\n",
       "    <tr>\n",
       "      <th>SST</th>\n",
       "      <td>101.05</td>\n",
       "    </tr>\n",
       "  </tbody>\n",
       "</table>\n",
       "</div>"
      ],
      "text/plain": [
       "      Perm(md)\n",
       "LITH          \n",
       "LST      15.10\n",
       "SST     101.05"
      ]
     },
     "execution_count": 17,
     "metadata": {},
     "output_type": "execute_result"
    }
   ],
   "source": [
    "df_lith_poro_perm.groupby('LITH').agg(np.mean)[['Perm(md)']]"
   ]
  },
  {
   "cell_type": "code",
   "execution_count": 21,
   "id": "83c165dc",
   "metadata": {},
   "outputs": [],
   "source": [
    "condition = df_lith_poro_perm['LITH'] == 'SST'\n",
    "df_subset = df_lith_poro_perm[condition]\n",
    "df_subset_agg = df_subset.groupby(by='LITH').agg(np.mean)[['PORO(%)']]"
   ]
  },
  {
   "cell_type": "code",
   "execution_count": 22,
   "id": "8c41e526",
   "metadata": {},
   "outputs": [
    {
     "data": {
      "text/html": [
       "<div>\n",
       "<style scoped>\n",
       "    .dataframe tbody tr th:only-of-type {\n",
       "        vertical-align: middle;\n",
       "    }\n",
       "\n",
       "    .dataframe tbody tr th {\n",
       "        vertical-align: top;\n",
       "    }\n",
       "\n",
       "    .dataframe thead th {\n",
       "        text-align: right;\n",
       "    }\n",
       "</style>\n",
       "<table border=\"1\" class=\"dataframe\">\n",
       "  <thead>\n",
       "    <tr style=\"text-align: right;\">\n",
       "      <th></th>\n",
       "      <th>PORO(%)</th>\n",
       "    </tr>\n",
       "    <tr>\n",
       "      <th>LITH</th>\n",
       "      <th></th>\n",
       "    </tr>\n",
       "  </thead>\n",
       "  <tbody>\n",
       "    <tr>\n",
       "      <th>SST</th>\n",
       "      <td>25.666667</td>\n",
       "    </tr>\n",
       "  </tbody>\n",
       "</table>\n",
       "</div>"
      ],
      "text/plain": [
       "        PORO(%)\n",
       "LITH           \n",
       "SST   25.666667"
      ]
     },
     "execution_count": 22,
     "metadata": {},
     "output_type": "execute_result"
    }
   ],
   "source": [
    "df_subset_agg"
   ]
  },
  {
   "cell_type": "code",
   "execution_count": 23,
   "id": "960c09ab",
   "metadata": {},
   "outputs": [],
   "source": [
    "### df_subset[(df_lith_poro_perm ['LITH']=='SST')].groupby(by='LITH').agg(np.mean)[['PORO(%)']]"
   ]
  },
  {
   "cell_type": "code",
   "execution_count": 24,
   "id": "7379ee65",
   "metadata": {},
   "outputs": [],
   "source": [
    "df_lith_poro_perm['XYZ'] = ['X', 'Y', 'Z', 'A', 'B', 'C']"
   ]
  },
  {
   "cell_type": "code",
   "execution_count": 25,
   "id": "ff9743f8",
   "metadata": {},
   "outputs": [
    {
     "data": {
      "text/html": [
       "<div>\n",
       "<style scoped>\n",
       "    .dataframe tbody tr th:only-of-type {\n",
       "        vertical-align: middle;\n",
       "    }\n",
       "\n",
       "    .dataframe tbody tr th {\n",
       "        vertical-align: top;\n",
       "    }\n",
       "\n",
       "    .dataframe thead th {\n",
       "        text-align: right;\n",
       "    }\n",
       "</style>\n",
       "<table border=\"1\" class=\"dataframe\">\n",
       "  <thead>\n",
       "    <tr style=\"text-align: right;\">\n",
       "      <th></th>\n",
       "      <th>LITH</th>\n",
       "      <th>PORO(%)</th>\n",
       "      <th>Perm(md)</th>\n",
       "      <th>XYZ</th>\n",
       "    </tr>\n",
       "  </thead>\n",
       "  <tbody>\n",
       "    <tr>\n",
       "      <th>0</th>\n",
       "      <td>SST</td>\n",
       "      <td>31</td>\n",
       "      <td>144.15</td>\n",
       "      <td>X</td>\n",
       "    </tr>\n",
       "    <tr>\n",
       "      <th>1</th>\n",
       "      <td>SST</td>\n",
       "      <td>22</td>\n",
       "      <td>72.60</td>\n",
       "      <td>Y</td>\n",
       "    </tr>\n",
       "    <tr>\n",
       "      <th>2</th>\n",
       "      <td>LST</td>\n",
       "      <td>10</td>\n",
       "      <td>15.00</td>\n",
       "      <td>Z</td>\n",
       "    </tr>\n",
       "    <tr>\n",
       "      <th>3</th>\n",
       "      <td>LST</td>\n",
       "      <td>9</td>\n",
       "      <td>12.15</td>\n",
       "      <td>A</td>\n",
       "    </tr>\n",
       "    <tr>\n",
       "      <th>4</th>\n",
       "      <td>SST</td>\n",
       "      <td>24</td>\n",
       "      <td>86.40</td>\n",
       "      <td>B</td>\n",
       "    </tr>\n",
       "    <tr>\n",
       "      <th>5</th>\n",
       "      <td>LST</td>\n",
       "      <td>11</td>\n",
       "      <td>18.15</td>\n",
       "      <td>C</td>\n",
       "    </tr>\n",
       "  </tbody>\n",
       "</table>\n",
       "</div>"
      ],
      "text/plain": [
       "  LITH  PORO(%)  Perm(md) XYZ\n",
       "0  SST       31    144.15   X\n",
       "1  SST       22     72.60   Y\n",
       "2  LST       10     15.00   Z\n",
       "3  LST        9     12.15   A\n",
       "4  SST       24     86.40   B\n",
       "5  LST       11     18.15   C"
      ]
     },
     "execution_count": 25,
     "metadata": {},
     "output_type": "execute_result"
    }
   ],
   "source": [
    "df_lith_poro_perm"
   ]
  },
  {
   "cell_type": "code",
   "execution_count": 26,
   "id": "f17cb78a",
   "metadata": {},
   "outputs": [
    {
     "data": {
      "text/html": [
       "<div>\n",
       "<style scoped>\n",
       "    .dataframe tbody tr th:only-of-type {\n",
       "        vertical-align: middle;\n",
       "    }\n",
       "\n",
       "    .dataframe tbody tr th {\n",
       "        vertical-align: top;\n",
       "    }\n",
       "\n",
       "    .dataframe thead th {\n",
       "        text-align: right;\n",
       "    }\n",
       "</style>\n",
       "<table border=\"1\" class=\"dataframe\">\n",
       "  <thead>\n",
       "    <tr style=\"text-align: right;\">\n",
       "      <th></th>\n",
       "      <th>PORO(%)</th>\n",
       "      <th>Perm(md)</th>\n",
       "    </tr>\n",
       "    <tr>\n",
       "      <th>LITH</th>\n",
       "      <th></th>\n",
       "      <th></th>\n",
       "    </tr>\n",
       "  </thead>\n",
       "  <tbody>\n",
       "    <tr>\n",
       "      <th>LST</th>\n",
       "      <td>10.000000</td>\n",
       "      <td>15.10</td>\n",
       "    </tr>\n",
       "    <tr>\n",
       "      <th>SST</th>\n",
       "      <td>25.666667</td>\n",
       "      <td>101.05</td>\n",
       "    </tr>\n",
       "  </tbody>\n",
       "</table>\n",
       "</div>"
      ],
      "text/plain": [
       "        PORO(%)  Perm(md)\n",
       "LITH                     \n",
       "LST   10.000000     15.10\n",
       "SST   25.666667    101.05"
      ]
     },
     "execution_count": 26,
     "metadata": {},
     "output_type": "execute_result"
    }
   ],
   "source": [
    "df_lith_poro_perm.groupby(by='LITH').agg(np.mean)"
   ]
  },
  {
   "cell_type": "markdown",
   "id": "a72976eb",
   "metadata": {},
   "source": [
    "### Joining/Merging Tables"
   ]
  },
  {
   "cell_type": "code",
   "execution_count": 6,
   "id": "787fb380",
   "metadata": {},
   "outputs": [],
   "source": [
    "df1 = pd.DataFrame({'Names':['A', 'B', 'C'], 'Math_Marks':[60, 70, 90]})"
   ]
  },
  {
   "cell_type": "code",
   "execution_count": 7,
   "id": "3bc5b110",
   "metadata": {},
   "outputs": [
    {
     "data": {
      "text/html": [
       "<div>\n",
       "<style scoped>\n",
       "    .dataframe tbody tr th:only-of-type {\n",
       "        vertical-align: middle;\n",
       "    }\n",
       "\n",
       "    .dataframe tbody tr th {\n",
       "        vertical-align: top;\n",
       "    }\n",
       "\n",
       "    .dataframe thead th {\n",
       "        text-align: right;\n",
       "    }\n",
       "</style>\n",
       "<table border=\"1\" class=\"dataframe\">\n",
       "  <thead>\n",
       "    <tr style=\"text-align: right;\">\n",
       "      <th></th>\n",
       "      <th>Names</th>\n",
       "      <th>Math_Marks</th>\n",
       "    </tr>\n",
       "  </thead>\n",
       "  <tbody>\n",
       "    <tr>\n",
       "      <th>0</th>\n",
       "      <td>A</td>\n",
       "      <td>60</td>\n",
       "    </tr>\n",
       "    <tr>\n",
       "      <th>1</th>\n",
       "      <td>B</td>\n",
       "      <td>70</td>\n",
       "    </tr>\n",
       "    <tr>\n",
       "      <th>2</th>\n",
       "      <td>C</td>\n",
       "      <td>90</td>\n",
       "    </tr>\n",
       "  </tbody>\n",
       "</table>\n",
       "</div>"
      ],
      "text/plain": [
       "  Names  Math_Marks\n",
       "0     A          60\n",
       "1     B          70\n",
       "2     C          90"
      ]
     },
     "execution_count": 7,
     "metadata": {},
     "output_type": "execute_result"
    }
   ],
   "source": [
    "df1"
   ]
  },
  {
   "cell_type": "code",
   "execution_count": 8,
   "id": "ad98c4c2",
   "metadata": {},
   "outputs": [],
   "source": [
    "df2 = pd.DataFrame({'Names':['B', 'C', 'D', 'E'], 'Science_Marks':[80,95,20,60]})"
   ]
  },
  {
   "cell_type": "code",
   "execution_count": 9,
   "id": "3324dab6",
   "metadata": {},
   "outputs": [
    {
     "data": {
      "text/html": [
       "<div>\n",
       "<style scoped>\n",
       "    .dataframe tbody tr th:only-of-type {\n",
       "        vertical-align: middle;\n",
       "    }\n",
       "\n",
       "    .dataframe tbody tr th {\n",
       "        vertical-align: top;\n",
       "    }\n",
       "\n",
       "    .dataframe thead th {\n",
       "        text-align: right;\n",
       "    }\n",
       "</style>\n",
       "<table border=\"1\" class=\"dataframe\">\n",
       "  <thead>\n",
       "    <tr style=\"text-align: right;\">\n",
       "      <th></th>\n",
       "      <th>Names</th>\n",
       "      <th>Science_Marks</th>\n",
       "    </tr>\n",
       "  </thead>\n",
       "  <tbody>\n",
       "    <tr>\n",
       "      <th>0</th>\n",
       "      <td>B</td>\n",
       "      <td>80</td>\n",
       "    </tr>\n",
       "    <tr>\n",
       "      <th>1</th>\n",
       "      <td>C</td>\n",
       "      <td>95</td>\n",
       "    </tr>\n",
       "    <tr>\n",
       "      <th>2</th>\n",
       "      <td>D</td>\n",
       "      <td>20</td>\n",
       "    </tr>\n",
       "    <tr>\n",
       "      <th>3</th>\n",
       "      <td>E</td>\n",
       "      <td>60</td>\n",
       "    </tr>\n",
       "  </tbody>\n",
       "</table>\n",
       "</div>"
      ],
      "text/plain": [
       "  Names  Science_Marks\n",
       "0     B             80\n",
       "1     C             95\n",
       "2     D             20\n",
       "3     E             60"
      ]
     },
     "execution_count": 9,
     "metadata": {},
     "output_type": "execute_result"
    }
   ],
   "source": [
    "df2"
   ]
  },
  {
   "cell_type": "markdown",
   "id": "d896cdba",
   "metadata": {},
   "source": [
    "### Ex1 : For all students who appeared in Math exam, I want their science marks in another column as well"
   ]
  },
  {
   "cell_type": "code",
   "execution_count": 10,
   "id": "7f286c1f",
   "metadata": {},
   "outputs": [],
   "source": [
    "base_table = df1"
   ]
  },
  {
   "cell_type": "code",
   "execution_count": 11,
   "id": "749a09b1",
   "metadata": {},
   "outputs": [],
   "source": [
    "additional_details_table = df2"
   ]
  },
  {
   "cell_type": "code",
   "execution_count": 12,
   "id": "16e621f3",
   "metadata": {},
   "outputs": [],
   "source": [
    "joined_table = base_table.merge(right=additional_details_table, on='Names', how='left')"
   ]
  },
  {
   "cell_type": "code",
   "execution_count": 13,
   "id": "4b7bcab1",
   "metadata": {},
   "outputs": [
    {
     "data": {
      "text/html": [
       "<div>\n",
       "<style scoped>\n",
       "    .dataframe tbody tr th:only-of-type {\n",
       "        vertical-align: middle;\n",
       "    }\n",
       "\n",
       "    .dataframe tbody tr th {\n",
       "        vertical-align: top;\n",
       "    }\n",
       "\n",
       "    .dataframe thead th {\n",
       "        text-align: right;\n",
       "    }\n",
       "</style>\n",
       "<table border=\"1\" class=\"dataframe\">\n",
       "  <thead>\n",
       "    <tr style=\"text-align: right;\">\n",
       "      <th></th>\n",
       "      <th>Names</th>\n",
       "      <th>Math_Marks</th>\n",
       "      <th>Science_Marks</th>\n",
       "    </tr>\n",
       "  </thead>\n",
       "  <tbody>\n",
       "    <tr>\n",
       "      <th>0</th>\n",
       "      <td>A</td>\n",
       "      <td>60</td>\n",
       "      <td>NaN</td>\n",
       "    </tr>\n",
       "    <tr>\n",
       "      <th>1</th>\n",
       "      <td>B</td>\n",
       "      <td>70</td>\n",
       "      <td>80.0</td>\n",
       "    </tr>\n",
       "    <tr>\n",
       "      <th>2</th>\n",
       "      <td>C</td>\n",
       "      <td>90</td>\n",
       "      <td>95.0</td>\n",
       "    </tr>\n",
       "  </tbody>\n",
       "</table>\n",
       "</div>"
      ],
      "text/plain": [
       "  Names  Math_Marks  Science_Marks\n",
       "0     A          60            NaN\n",
       "1     B          70           80.0\n",
       "2     C          90           95.0"
      ]
     },
     "execution_count": 13,
     "metadata": {},
     "output_type": "execute_result"
    }
   ],
   "source": [
    "joined_table"
   ]
  },
  {
   "cell_type": "code",
   "execution_count": 14,
   "id": "7444f2b5",
   "metadata": {},
   "outputs": [],
   "source": [
    "base_table = df2"
   ]
  },
  {
   "cell_type": "code",
   "execution_count": 15,
   "id": "f336545c",
   "metadata": {},
   "outputs": [],
   "source": [
    "additional_details_table = df1"
   ]
  },
  {
   "cell_type": "code",
   "execution_count": 16,
   "id": "07b3591d",
   "metadata": {},
   "outputs": [],
   "source": [
    "joined_table = base_table.merge(right=additional_details_table, on='Names', how='left')"
   ]
  },
  {
   "cell_type": "code",
   "execution_count": 17,
   "id": "72f249ec",
   "metadata": {},
   "outputs": [
    {
     "data": {
      "text/html": [
       "<div>\n",
       "<style scoped>\n",
       "    .dataframe tbody tr th:only-of-type {\n",
       "        vertical-align: middle;\n",
       "    }\n",
       "\n",
       "    .dataframe tbody tr th {\n",
       "        vertical-align: top;\n",
       "    }\n",
       "\n",
       "    .dataframe thead th {\n",
       "        text-align: right;\n",
       "    }\n",
       "</style>\n",
       "<table border=\"1\" class=\"dataframe\">\n",
       "  <thead>\n",
       "    <tr style=\"text-align: right;\">\n",
       "      <th></th>\n",
       "      <th>Names</th>\n",
       "      <th>Science_Marks</th>\n",
       "      <th>Math_Marks</th>\n",
       "    </tr>\n",
       "  </thead>\n",
       "  <tbody>\n",
       "    <tr>\n",
       "      <th>0</th>\n",
       "      <td>B</td>\n",
       "      <td>80</td>\n",
       "      <td>70.0</td>\n",
       "    </tr>\n",
       "    <tr>\n",
       "      <th>1</th>\n",
       "      <td>C</td>\n",
       "      <td>95</td>\n",
       "      <td>90.0</td>\n",
       "    </tr>\n",
       "    <tr>\n",
       "      <th>2</th>\n",
       "      <td>D</td>\n",
       "      <td>20</td>\n",
       "      <td>NaN</td>\n",
       "    </tr>\n",
       "    <tr>\n",
       "      <th>3</th>\n",
       "      <td>E</td>\n",
       "      <td>60</td>\n",
       "      <td>NaN</td>\n",
       "    </tr>\n",
       "  </tbody>\n",
       "</table>\n",
       "</div>"
      ],
      "text/plain": [
       "  Names  Science_Marks  Math_Marks\n",
       "0     B             80        70.0\n",
       "1     C             95        90.0\n",
       "2     D             20         NaN\n",
       "3     E             60         NaN"
      ]
     },
     "execution_count": 17,
     "metadata": {},
     "output_type": "execute_result"
    }
   ],
   "source": [
    "joined_table"
   ]
  },
  {
   "cell_type": "code",
   "execution_count": 18,
   "id": "7472520a",
   "metadata": {},
   "outputs": [
    {
     "data": {
      "text/html": [
       "<div>\n",
       "<style scoped>\n",
       "    .dataframe tbody tr th:only-of-type {\n",
       "        vertical-align: middle;\n",
       "    }\n",
       "\n",
       "    .dataframe tbody tr th {\n",
       "        vertical-align: top;\n",
       "    }\n",
       "\n",
       "    .dataframe thead th {\n",
       "        text-align: right;\n",
       "    }\n",
       "</style>\n",
       "<table border=\"1\" class=\"dataframe\">\n",
       "  <thead>\n",
       "    <tr style=\"text-align: right;\">\n",
       "      <th></th>\n",
       "      <th>Names</th>\n",
       "      <th>Science_Marks</th>\n",
       "      <th>Math_Marks</th>\n",
       "    </tr>\n",
       "  </thead>\n",
       "  <tbody>\n",
       "    <tr>\n",
       "      <th>0</th>\n",
       "      <td>B</td>\n",
       "      <td>80</td>\n",
       "      <td>70</td>\n",
       "    </tr>\n",
       "    <tr>\n",
       "      <th>1</th>\n",
       "      <td>C</td>\n",
       "      <td>95</td>\n",
       "      <td>90</td>\n",
       "    </tr>\n",
       "  </tbody>\n",
       "</table>\n",
       "</div>"
      ],
      "text/plain": [
       "  Names  Science_Marks  Math_Marks\n",
       "0     B             80          70\n",
       "1     C             95          90"
      ]
     },
     "execution_count": 18,
     "metadata": {},
     "output_type": "execute_result"
    }
   ],
   "source": [
    "base_table.merge(right=additional_details_table, on='Names', how='inner')"
   ]
  },
  {
   "cell_type": "code",
   "execution_count": 19,
   "id": "e8060880",
   "metadata": {},
   "outputs": [
    {
     "data": {
      "text/html": [
       "<div>\n",
       "<style scoped>\n",
       "    .dataframe tbody tr th:only-of-type {\n",
       "        vertical-align: middle;\n",
       "    }\n",
       "\n",
       "    .dataframe tbody tr th {\n",
       "        vertical-align: top;\n",
       "    }\n",
       "\n",
       "    .dataframe thead th {\n",
       "        text-align: right;\n",
       "    }\n",
       "</style>\n",
       "<table border=\"1\" class=\"dataframe\">\n",
       "  <thead>\n",
       "    <tr style=\"text-align: right;\">\n",
       "      <th></th>\n",
       "      <th>Names</th>\n",
       "      <th>Science_Marks</th>\n",
       "      <th>Math_Marks</th>\n",
       "    </tr>\n",
       "  </thead>\n",
       "  <tbody>\n",
       "    <tr>\n",
       "      <th>0</th>\n",
       "      <td>B</td>\n",
       "      <td>80.0</td>\n",
       "      <td>70.0</td>\n",
       "    </tr>\n",
       "    <tr>\n",
       "      <th>1</th>\n",
       "      <td>C</td>\n",
       "      <td>95.0</td>\n",
       "      <td>90.0</td>\n",
       "    </tr>\n",
       "    <tr>\n",
       "      <th>2</th>\n",
       "      <td>D</td>\n",
       "      <td>20.0</td>\n",
       "      <td>NaN</td>\n",
       "    </tr>\n",
       "    <tr>\n",
       "      <th>3</th>\n",
       "      <td>E</td>\n",
       "      <td>60.0</td>\n",
       "      <td>NaN</td>\n",
       "    </tr>\n",
       "    <tr>\n",
       "      <th>4</th>\n",
       "      <td>A</td>\n",
       "      <td>NaN</td>\n",
       "      <td>60.0</td>\n",
       "    </tr>\n",
       "  </tbody>\n",
       "</table>\n",
       "</div>"
      ],
      "text/plain": [
       "  Names  Science_Marks  Math_Marks\n",
       "0     B           80.0        70.0\n",
       "1     C           95.0        90.0\n",
       "2     D           20.0         NaN\n",
       "3     E           60.0         NaN\n",
       "4     A            NaN        60.0"
      ]
     },
     "execution_count": 19,
     "metadata": {},
     "output_type": "execute_result"
    }
   ],
   "source": [
    "base_table.merge(right=additional_details_table, on='Names', how='outer')"
   ]
  }
 ],
 "metadata": {
  "kernelspec": {
   "display_name": "Python 3",
   "language": "python",
   "name": "python3"
  },
  "language_info": {
   "codemirror_mode": {
    "name": "ipython",
    "version": 3
   },
   "file_extension": ".py",
   "mimetype": "text/x-python",
   "name": "python",
   "nbconvert_exporter": "python",
   "pygments_lexer": "ipython3",
   "version": "3.8.8"
  }
 },
 "nbformat": 4,
 "nbformat_minor": 5
}
